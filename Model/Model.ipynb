{
 "cells": [
  {
   "cell_type": "code",
   "execution_count": 1,
   "id": "d738453c",
   "metadata": {},
   "outputs": [],
   "source": [
    "import pandas as pd\n",
    "import numpy as np"
   ]
  },
  {
   "cell_type": "markdown",
   "id": "e9cb46fd",
   "metadata": {},
   "source": [
    "## Data Preprocessing"
   ]
  },
  {
   "cell_type": "code",
   "execution_count": 2,
   "id": "0481ed7b",
   "metadata": {},
   "outputs": [
    {
     "data": {
      "text/html": [
       "<div>\n",
       "<style scoped>\n",
       "    .dataframe tbody tr th:only-of-type {\n",
       "        vertical-align: middle;\n",
       "    }\n",
       "\n",
       "    .dataframe tbody tr th {\n",
       "        vertical-align: top;\n",
       "    }\n",
       "\n",
       "    .dataframe thead th {\n",
       "        text-align: right;\n",
       "    }\n",
       "</style>\n",
       "<table border=\"1\" class=\"dataframe\">\n",
       "  <thead>\n",
       "    <tr style=\"text-align: right;\">\n",
       "      <th></th>\n",
       "      <th>Model</th>\n",
       "      <th>Price</th>\n",
       "      <th>RAM</th>\n",
       "      <th>Generation</th>\n",
       "      <th>Processor Type</th>\n",
       "      <th>Hard Drive Type</th>\n",
       "      <th>Hard Drive Size</th>\n",
       "    </tr>\n",
       "  </thead>\n",
       "  <tbody>\n",
       "    <tr>\n",
       "      <th>0</th>\n",
       "      <td>LENOVO SLIM 3 15ALC6 RYZEN5 5500U|8GB|512SSD|2...</td>\n",
       "      <td>Rs. 250,400.00</td>\n",
       "      <td>8GB</td>\n",
       "      <td>5</td>\n",
       "      <td>Ryzen 5</td>\n",
       "      <td>SSD</td>\n",
       "      <td>512GB</td>\n",
       "    </tr>\n",
       "    <tr>\n",
       "      <th>1</th>\n",
       "      <td>ACER A515-56-53LE CORE i5 11GN|4GB|1TB|W10|SIL...</td>\n",
       "      <td>Rs. 211,150.00</td>\n",
       "      <td>4GB</td>\n",
       "      <td>11</td>\n",
       "      <td>i5</td>\n",
       "      <td>HDD</td>\n",
       "      <td>1 TB</td>\n",
       "    </tr>\n",
       "    <tr>\n",
       "      <th>2</th>\n",
       "      <td>ACER TMP 215|RYZEN 5-5650U|8GB|512GB|WIN 10PRO...</td>\n",
       "      <td>Rs. 247,200.00</td>\n",
       "      <td>8GB</td>\n",
       "      <td>5</td>\n",
       "      <td>Ryzen 5</td>\n",
       "      <td>HDD</td>\n",
       "      <td>512GB</td>\n",
       "    </tr>\n",
       "    <tr>\n",
       "      <th>3</th>\n",
       "      <td>HP 255 G8 RYZEN 5 5500U|8GB|1TB|W10|bag(2y)dar...</td>\n",
       "      <td>Rs. 195,700.00</td>\n",
       "      <td>8GB</td>\n",
       "      <td>5</td>\n",
       "      <td>Ryzen 5</td>\n",
       "      <td>HDD</td>\n",
       "      <td>1 TB</td>\n",
       "    </tr>\n",
       "    <tr>\n",
       "      <th>4</th>\n",
       "      <td>LENOVO V15 G2ITL i5|11GN|8GB|1TB|MX350|15.6'' ...</td>\n",
       "      <td>Rs. 216,300.00</td>\n",
       "      <td>8GB</td>\n",
       "      <td>11</td>\n",
       "      <td>i5</td>\n",
       "      <td>HDD</td>\n",
       "      <td>1 TB</td>\n",
       "    </tr>\n",
       "  </tbody>\n",
       "</table>\n",
       "</div>"
      ],
      "text/plain": [
       "                                               Model           Price   RAM  \\\n",
       "0  LENOVO SLIM 3 15ALC6 RYZEN5 5500U|8GB|512SSD|2...  Rs. 250,400.00  8GB    \n",
       "1  ACER A515-56-53LE CORE i5 11GN|4GB|1TB|W10|SIL...  Rs. 211,150.00  4GB    \n",
       "2  ACER TMP 215|RYZEN 5-5650U|8GB|512GB|WIN 10PRO...  Rs. 247,200.00  8GB    \n",
       "3  HP 255 G8 RYZEN 5 5500U|8GB|1TB|W10|bag(2y)dar...  Rs. 195,700.00  8GB    \n",
       "4  LENOVO V15 G2ITL i5|11GN|8GB|1TB|MX350|15.6'' ...  Rs. 216,300.00  8GB    \n",
       "\n",
       "   Generation Processor Type Hard Drive Type Hard Drive Size  \n",
       "0           5        Ryzen 5             SSD           512GB  \n",
       "1          11             i5             HDD            1 TB  \n",
       "2           5        Ryzen 5             HDD           512GB  \n",
       "3           5        Ryzen 5             HDD            1 TB  \n",
       "4          11             i5             HDD            1 TB  "
      ]
     },
     "execution_count": 2,
     "metadata": {},
     "output_type": "execute_result"
    }
   ],
   "source": [
    "data_1 = pd.read_csv('data_1.csv') #get the data\n",
    "data_2 = pd.read_csv('data_2.csv')\n",
    "data_3 = pd.read_csv('data_3.csv')\n",
    "data_4 = pd.read_csv('data_4.csv')\n",
    "data_5 = pd.read_csv('data_5.csv')\n",
    "data_1.head()"
   ]
  },
  {
   "cell_type": "code",
   "execution_count": 3,
   "id": "815d9aab",
   "metadata": {},
   "outputs": [
    {
     "name": "stdout",
     "output_type": "stream",
     "text": [
      "<class 'pandas.core.frame.DataFrame'>\n",
      "RangeIndex: 39 entries, 0 to 38\n",
      "Data columns (total 7 columns):\n",
      " #   Column           Non-Null Count  Dtype \n",
      "---  ------           --------------  ----- \n",
      " 0   Model            39 non-null     object\n",
      " 1   Price            39 non-null     object\n",
      " 2   RAM              39 non-null     object\n",
      " 3   Generation       39 non-null     int64 \n",
      " 4   Processor Type   39 non-null     object\n",
      " 5   Hard Drive Type  39 non-null     object\n",
      " 6   Hard Drive Size  39 non-null     object\n",
      "dtypes: int64(1), object(6)\n",
      "memory usage: 2.3+ KB\n"
     ]
    }
   ],
   "source": [
    "data_1.info()"
   ]
  },
  {
   "cell_type": "code",
   "execution_count": 4,
   "id": "331cdfa2",
   "metadata": {},
   "outputs": [
    {
     "name": "stderr",
     "output_type": "stream",
     "text": [
      "C:\\Users\\Laptop Outlet\\AppData\\Local\\Temp\\ipykernel_19392\\4182193127.py:1: FutureWarning: The default value of regex will change from True to False in a future version.\n",
      "  data_1['Price'] = data_1['Price'].str.replace('Rs.','') #covert the price column into intiger\n"
     ]
    }
   ],
   "source": [
    "data_1['Price'] = data_1['Price'].str.replace('Rs.','') #covert the price column into intiger\n",
    "data_1['Price'] = data_1['Price'].str.replace(',','')\n",
    "data_1['Price'] = data_1['Price'].str[:-3].astype('int64')"
   ]
  },
  {
   "cell_type": "code",
   "execution_count": 5,
   "id": "49261e2b",
   "metadata": {},
   "outputs": [
    {
     "data": {
      "text/html": [
       "<div>\n",
       "<style scoped>\n",
       "    .dataframe tbody tr th:only-of-type {\n",
       "        vertical-align: middle;\n",
       "    }\n",
       "\n",
       "    .dataframe tbody tr th {\n",
       "        vertical-align: top;\n",
       "    }\n",
       "\n",
       "    .dataframe thead th {\n",
       "        text-align: right;\n",
       "    }\n",
       "</style>\n",
       "<table border=\"1\" class=\"dataframe\">\n",
       "  <thead>\n",
       "    <tr style=\"text-align: right;\">\n",
       "      <th></th>\n",
       "      <th>Model</th>\n",
       "      <th>Price</th>\n",
       "      <th>RAM</th>\n",
       "      <th>Generation</th>\n",
       "      <th>Processor Type</th>\n",
       "      <th>Hard Drive Type</th>\n",
       "      <th>Hard Drive Size</th>\n",
       "    </tr>\n",
       "  </thead>\n",
       "  <tbody>\n",
       "    <tr>\n",
       "      <th>0</th>\n",
       "      <td>LENOVO SLIM 3 15ALC6 RYZEN5 5500U|8GB|512SSD|2...</td>\n",
       "      <td>250400</td>\n",
       "      <td>8GB</td>\n",
       "      <td>5</td>\n",
       "      <td>Ryzen 5</td>\n",
       "      <td>SSD</td>\n",
       "      <td>512GB</td>\n",
       "    </tr>\n",
       "    <tr>\n",
       "      <th>1</th>\n",
       "      <td>ACER A515-56-53LE CORE i5 11GN|4GB|1TB|W10|SIL...</td>\n",
       "      <td>211150</td>\n",
       "      <td>4GB</td>\n",
       "      <td>11</td>\n",
       "      <td>i5</td>\n",
       "      <td>HDD</td>\n",
       "      <td>1 TB</td>\n",
       "    </tr>\n",
       "    <tr>\n",
       "      <th>2</th>\n",
       "      <td>ACER TMP 215|RYZEN 5-5650U|8GB|512GB|WIN 10PRO...</td>\n",
       "      <td>247200</td>\n",
       "      <td>8GB</td>\n",
       "      <td>5</td>\n",
       "      <td>Ryzen 5</td>\n",
       "      <td>HDD</td>\n",
       "      <td>512GB</td>\n",
       "    </tr>\n",
       "    <tr>\n",
       "      <th>3</th>\n",
       "      <td>HP 255 G8 RYZEN 5 5500U|8GB|1TB|W10|bag(2y)dar...</td>\n",
       "      <td>195700</td>\n",
       "      <td>8GB</td>\n",
       "      <td>5</td>\n",
       "      <td>Ryzen 5</td>\n",
       "      <td>HDD</td>\n",
       "      <td>1 TB</td>\n",
       "    </tr>\n",
       "    <tr>\n",
       "      <th>4</th>\n",
       "      <td>LENOVO V15 G2ITL i5|11GN|8GB|1TB|MX350|15.6'' ...</td>\n",
       "      <td>216300</td>\n",
       "      <td>8GB</td>\n",
       "      <td>11</td>\n",
       "      <td>i5</td>\n",
       "      <td>HDD</td>\n",
       "      <td>1 TB</td>\n",
       "    </tr>\n",
       "  </tbody>\n",
       "</table>\n",
       "</div>"
      ],
      "text/plain": [
       "                                               Model   Price   RAM  \\\n",
       "0  LENOVO SLIM 3 15ALC6 RYZEN5 5500U|8GB|512SSD|2...  250400  8GB    \n",
       "1  ACER A515-56-53LE CORE i5 11GN|4GB|1TB|W10|SIL...  211150  4GB    \n",
       "2  ACER TMP 215|RYZEN 5-5650U|8GB|512GB|WIN 10PRO...  247200  8GB    \n",
       "3  HP 255 G8 RYZEN 5 5500U|8GB|1TB|W10|bag(2y)dar...  195700  8GB    \n",
       "4  LENOVO V15 G2ITL i5|11GN|8GB|1TB|MX350|15.6'' ...  216300  8GB    \n",
       "\n",
       "   Generation Processor Type Hard Drive Type Hard Drive Size  \n",
       "0           5        Ryzen 5             SSD           512GB  \n",
       "1          11             i5             HDD            1 TB  \n",
       "2           5        Ryzen 5             HDD           512GB  \n",
       "3           5        Ryzen 5             HDD            1 TB  \n",
       "4          11             i5             HDD            1 TB  "
      ]
     },
     "execution_count": 5,
     "metadata": {},
     "output_type": "execute_result"
    }
   ],
   "source": [
    "data_1.head()"
   ]
  },
  {
   "cell_type": "code",
   "execution_count": 6,
   "id": "236406b1",
   "metadata": {},
   "outputs": [
    {
     "data": {
      "text/html": [
       "<div>\n",
       "<style scoped>\n",
       "    .dataframe tbody tr th:only-of-type {\n",
       "        vertical-align: middle;\n",
       "    }\n",
       "\n",
       "    .dataframe tbody tr th {\n",
       "        vertical-align: top;\n",
       "    }\n",
       "\n",
       "    .dataframe thead th {\n",
       "        text-align: right;\n",
       "    }\n",
       "</style>\n",
       "<table border=\"1\" class=\"dataframe\">\n",
       "  <thead>\n",
       "    <tr style=\"text-align: right;\">\n",
       "      <th></th>\n",
       "      <th>Model</th>\n",
       "      <th>Price</th>\n",
       "      <th>RAM</th>\n",
       "      <th>Generation</th>\n",
       "      <th>Processor Type</th>\n",
       "      <th>Hard Drive Type</th>\n",
       "      <th>Hard Drive Size</th>\n",
       "    </tr>\n",
       "  </thead>\n",
       "  <tbody>\n",
       "    <tr>\n",
       "      <th>0</th>\n",
       "      <td>Asus Expertbook B1502 Core i3 12TH Gen</td>\n",
       "      <td>රු132,500.00</td>\n",
       "      <td>8GB</td>\n",
       "      <td>12</td>\n",
       "      <td>i3</td>\n",
       "      <td>SSD</td>\n",
       "      <td>512GB</td>\n",
       "    </tr>\n",
       "    <tr>\n",
       "      <th>1</th>\n",
       "      <td>Asus Expertbook B1502 Core i5 12TH Gen</td>\n",
       "      <td>රු184,000.00</td>\n",
       "      <td>8GB</td>\n",
       "      <td>12</td>\n",
       "      <td>i5</td>\n",
       "      <td>SSD</td>\n",
       "      <td>512GB</td>\n",
       "    </tr>\n",
       "    <tr>\n",
       "      <th>2</th>\n",
       "      <td>Asus Expertbook B1502 Core i7 Laptop</td>\n",
       "      <td>රු213,000.00</td>\n",
       "      <td>8GB</td>\n",
       "      <td>12</td>\n",
       "      <td>i7</td>\n",
       "      <td>SSD</td>\n",
       "      <td>512GB</td>\n",
       "    </tr>\n",
       "    <tr>\n",
       "      <th>3</th>\n",
       "      <td>ASUS Vivobook 15 (X1504) i5 13th Gen</td>\n",
       "      <td>රු182,500.00</td>\n",
       "      <td>8GB</td>\n",
       "      <td>13</td>\n",
       "      <td>i5</td>\n",
       "      <td>SSD</td>\n",
       "      <td>512GB</td>\n",
       "    </tr>\n",
       "    <tr>\n",
       "      <th>4</th>\n",
       "      <td>ASUS Vivobook 15 A1504 i5 13th Gen 16GB</td>\n",
       "      <td>රු192,500.00</td>\n",
       "      <td>16GB</td>\n",
       "      <td>13</td>\n",
       "      <td>i5</td>\n",
       "      <td>SSD</td>\n",
       "      <td>512GB</td>\n",
       "    </tr>\n",
       "  </tbody>\n",
       "</table>\n",
       "</div>"
      ],
      "text/plain": [
       "                                     Model         Price   RAM  Generation  \\\n",
       "0   Asus Expertbook B1502 Core i3 12TH Gen  රු132,500.00   8GB          12   \n",
       "1   Asus Expertbook B1502 Core i5 12TH Gen  රු184,000.00   8GB          12   \n",
       "2     Asus Expertbook B1502 Core i7 Laptop  රු213,000.00   8GB          12   \n",
       "3     ASUS Vivobook 15 (X1504) i5 13th Gen  රු182,500.00   8GB          13   \n",
       "4  ASUS Vivobook 15 A1504 i5 13th Gen 16GB  රු192,500.00  16GB          13   \n",
       "\n",
       "  Processor Type Hard Drive Type Hard Drive Size  \n",
       "0             i3             SSD           512GB  \n",
       "1             i5             SSD           512GB  \n",
       "2             i7             SSD           512GB  \n",
       "3             i5             SSD           512GB  \n",
       "4             i5             SSD           512GB  "
      ]
     },
     "execution_count": 6,
     "metadata": {},
     "output_type": "execute_result"
    }
   ],
   "source": [
    "data_2.head()"
   ]
  },
  {
   "cell_type": "code",
   "execution_count": 7,
   "id": "95a9ee35",
   "metadata": {},
   "outputs": [],
   "source": [
    "data_2['Price'] = data_2['Price'].str.replace('රු','') #covert the price column into intiger\n",
    "data_2['Price'] = data_2['Price'].str.replace(',','')\n",
    "data_2['Price'] = data_2['Price'].str[:-3].astype('int64')"
   ]
  },
  {
   "cell_type": "code",
   "execution_count": 8,
   "id": "f61d93e9",
   "metadata": {},
   "outputs": [
    {
     "data": {
      "text/html": [
       "<div>\n",
       "<style scoped>\n",
       "    .dataframe tbody tr th:only-of-type {\n",
       "        vertical-align: middle;\n",
       "    }\n",
       "\n",
       "    .dataframe tbody tr th {\n",
       "        vertical-align: top;\n",
       "    }\n",
       "\n",
       "    .dataframe thead th {\n",
       "        text-align: right;\n",
       "    }\n",
       "</style>\n",
       "<table border=\"1\" class=\"dataframe\">\n",
       "  <thead>\n",
       "    <tr style=\"text-align: right;\">\n",
       "      <th></th>\n",
       "      <th>Model</th>\n",
       "      <th>Price</th>\n",
       "      <th>RAM</th>\n",
       "      <th>Generation</th>\n",
       "      <th>Processor Type</th>\n",
       "      <th>Hard Drive Type</th>\n",
       "      <th>Hard Drive Size</th>\n",
       "    </tr>\n",
       "  </thead>\n",
       "  <tbody>\n",
       "    <tr>\n",
       "      <th>0</th>\n",
       "      <td>Asus Expertbook B1502 Core i3 12TH Gen</td>\n",
       "      <td>132500</td>\n",
       "      <td>8GB</td>\n",
       "      <td>12</td>\n",
       "      <td>i3</td>\n",
       "      <td>SSD</td>\n",
       "      <td>512GB</td>\n",
       "    </tr>\n",
       "    <tr>\n",
       "      <th>1</th>\n",
       "      <td>Asus Expertbook B1502 Core i5 12TH Gen</td>\n",
       "      <td>184000</td>\n",
       "      <td>8GB</td>\n",
       "      <td>12</td>\n",
       "      <td>i5</td>\n",
       "      <td>SSD</td>\n",
       "      <td>512GB</td>\n",
       "    </tr>\n",
       "    <tr>\n",
       "      <th>2</th>\n",
       "      <td>Asus Expertbook B1502 Core i7 Laptop</td>\n",
       "      <td>213000</td>\n",
       "      <td>8GB</td>\n",
       "      <td>12</td>\n",
       "      <td>i7</td>\n",
       "      <td>SSD</td>\n",
       "      <td>512GB</td>\n",
       "    </tr>\n",
       "    <tr>\n",
       "      <th>3</th>\n",
       "      <td>ASUS Vivobook 15 (X1504) i5 13th Gen</td>\n",
       "      <td>182500</td>\n",
       "      <td>8GB</td>\n",
       "      <td>13</td>\n",
       "      <td>i5</td>\n",
       "      <td>SSD</td>\n",
       "      <td>512GB</td>\n",
       "    </tr>\n",
       "    <tr>\n",
       "      <th>4</th>\n",
       "      <td>ASUS Vivobook 15 A1504 i5 13th Gen 16GB</td>\n",
       "      <td>192500</td>\n",
       "      <td>16GB</td>\n",
       "      <td>13</td>\n",
       "      <td>i5</td>\n",
       "      <td>SSD</td>\n",
       "      <td>512GB</td>\n",
       "    </tr>\n",
       "  </tbody>\n",
       "</table>\n",
       "</div>"
      ],
      "text/plain": [
       "                                     Model   Price   RAM  Generation  \\\n",
       "0   Asus Expertbook B1502 Core i3 12TH Gen  132500   8GB          12   \n",
       "1   Asus Expertbook B1502 Core i5 12TH Gen  184000   8GB          12   \n",
       "2     Asus Expertbook B1502 Core i7 Laptop  213000   8GB          12   \n",
       "3     ASUS Vivobook 15 (X1504) i5 13th Gen  182500   8GB          13   \n",
       "4  ASUS Vivobook 15 A1504 i5 13th Gen 16GB  192500  16GB          13   \n",
       "\n",
       "  Processor Type Hard Drive Type Hard Drive Size  \n",
       "0             i3             SSD           512GB  \n",
       "1             i5             SSD           512GB  \n",
       "2             i7             SSD           512GB  \n",
       "3             i5             SSD           512GB  \n",
       "4             i5             SSD           512GB  "
      ]
     },
     "execution_count": 8,
     "metadata": {},
     "output_type": "execute_result"
    }
   ],
   "source": [
    "data_2.head()"
   ]
  },
  {
   "cell_type": "code",
   "execution_count": 9,
   "id": "8a888d60",
   "metadata": {},
   "outputs": [
    {
     "data": {
      "text/html": [
       "<div>\n",
       "<style scoped>\n",
       "    .dataframe tbody tr th:only-of-type {\n",
       "        vertical-align: middle;\n",
       "    }\n",
       "\n",
       "    .dataframe tbody tr th {\n",
       "        vertical-align: top;\n",
       "    }\n",
       "\n",
       "    .dataframe thead th {\n",
       "        text-align: right;\n",
       "    }\n",
       "</style>\n",
       "<table border=\"1\" class=\"dataframe\">\n",
       "  <thead>\n",
       "    <tr style=\"text-align: right;\">\n",
       "      <th></th>\n",
       "      <th>Model</th>\n",
       "      <th>Price</th>\n",
       "      <th>RAM</th>\n",
       "      <th>Generation</th>\n",
       "      <th>Processor Type</th>\n",
       "      <th>Hard Drive Type</th>\n",
       "      <th>Hard Drive Size</th>\n",
       "    </tr>\n",
       "  </thead>\n",
       "  <tbody>\n",
       "    <tr>\n",
       "      <th>0</th>\n",
       "      <td>ASUS</td>\n",
       "      <td>Original price was: රු 220,000.00.</td>\n",
       "      <td>16GB</td>\n",
       "      <td>13</td>\n",
       "      <td>i7</td>\n",
       "      <td>SSD</td>\n",
       "      <td>512GB</td>\n",
       "    </tr>\n",
       "    <tr>\n",
       "      <th>1</th>\n",
       "      <td>Lenovo</td>\n",
       "      <td>Original price was: රු 750,000.00.</td>\n",
       "      <td>16GB</td>\n",
       "      <td>12</td>\n",
       "      <td>i5</td>\n",
       "      <td>SSD</td>\n",
       "      <td>1TB</td>\n",
       "    </tr>\n",
       "    <tr>\n",
       "      <th>2</th>\n",
       "      <td>GIGABYTE</td>\n",
       "      <td>Original price was: රු 399,000.00.</td>\n",
       "      <td>16GB</td>\n",
       "      <td>13</td>\n",
       "      <td>i7</td>\n",
       "      <td>SSD</td>\n",
       "      <td>512GB</td>\n",
       "    </tr>\n",
       "    <tr>\n",
       "      <th>3</th>\n",
       "      <td>GIGABYTE</td>\n",
       "      <td>Original price was: රු 345,000.00.</td>\n",
       "      <td>32GB</td>\n",
       "      <td>14</td>\n",
       "      <td>i7</td>\n",
       "      <td>SSD</td>\n",
       "      <td>1TB</td>\n",
       "    </tr>\n",
       "    <tr>\n",
       "      <th>4</th>\n",
       "      <td>ASUS</td>\n",
       "      <td>Original price was: රු 160,000.00.</td>\n",
       "      <td>8GB</td>\n",
       "      <td>12</td>\n",
       "      <td>i5</td>\n",
       "      <td>SSD</td>\n",
       "      <td>1TB</td>\n",
       "    </tr>\n",
       "  </tbody>\n",
       "</table>\n",
       "</div>"
      ],
      "text/plain": [
       "      Model                               Price   RAM  Generation  \\\n",
       "0      ASUS  Original price was: රු 220,000.00.  16GB          13   \n",
       "1    Lenovo  Original price was: රු 750,000.00.  16GB          12   \n",
       "2  GIGABYTE  Original price was: රු 399,000.00.  16GB          13   \n",
       "3  GIGABYTE  Original price was: රු 345,000.00.  32GB          14   \n",
       "4      ASUS  Original price was: රු 160,000.00.   8GB          12   \n",
       "\n",
       "  Processor Type Hard Drive Type Hard Drive Size  \n",
       "0             i7             SSD           512GB  \n",
       "1             i5             SSD             1TB  \n",
       "2             i7             SSD           512GB  \n",
       "3             i7             SSD             1TB  \n",
       "4             i5             SSD             1TB  "
      ]
     },
     "execution_count": 9,
     "metadata": {},
     "output_type": "execute_result"
    }
   ],
   "source": [
    "data_3.head()"
   ]
  },
  {
   "cell_type": "code",
   "execution_count": 10,
   "id": "407d4e3a",
   "metadata": {},
   "outputs": [
    {
     "name": "stderr",
     "output_type": "stream",
     "text": [
      "C:\\Users\\Laptop Outlet\\AppData\\Local\\Temp\\ipykernel_19392\\560695302.py:3: FutureWarning: The default value of regex will change from True to False in a future version. In addition, single character regular expressions will *not* be treated as literal strings when regex=True.\n",
      "  data_3['Price'] = data_3['Price'].str.replace('.','')\n"
     ]
    }
   ],
   "source": [
    "data_3['Price'] = data_3['Price'].str.replace('Original price was: රු','') #covert the price column into intiger\n",
    "data_3['Price'] = data_3['Price'].str.replace(',','')\n",
    "data_3['Price'] = data_3['Price'].str.replace('.','')\n",
    "data_3['Price'] = data_3['Price'].str[:-2].astype('int64')"
   ]
  },
  {
   "cell_type": "code",
   "execution_count": 11,
   "id": "1f8a0f11",
   "metadata": {},
   "outputs": [
    {
     "data": {
      "text/html": [
       "<div>\n",
       "<style scoped>\n",
       "    .dataframe tbody tr th:only-of-type {\n",
       "        vertical-align: middle;\n",
       "    }\n",
       "\n",
       "    .dataframe tbody tr th {\n",
       "        vertical-align: top;\n",
       "    }\n",
       "\n",
       "    .dataframe thead th {\n",
       "        text-align: right;\n",
       "    }\n",
       "</style>\n",
       "<table border=\"1\" class=\"dataframe\">\n",
       "  <thead>\n",
       "    <tr style=\"text-align: right;\">\n",
       "      <th></th>\n",
       "      <th>Model</th>\n",
       "      <th>Price</th>\n",
       "      <th>RAM</th>\n",
       "      <th>Generation</th>\n",
       "      <th>Processor Type</th>\n",
       "      <th>Hard Drive Type</th>\n",
       "      <th>Hard Drive Size</th>\n",
       "    </tr>\n",
       "  </thead>\n",
       "  <tbody>\n",
       "    <tr>\n",
       "      <th>0</th>\n",
       "      <td>ASUS</td>\n",
       "      <td>220000</td>\n",
       "      <td>16GB</td>\n",
       "      <td>13</td>\n",
       "      <td>i7</td>\n",
       "      <td>SSD</td>\n",
       "      <td>512GB</td>\n",
       "    </tr>\n",
       "    <tr>\n",
       "      <th>1</th>\n",
       "      <td>Lenovo</td>\n",
       "      <td>750000</td>\n",
       "      <td>16GB</td>\n",
       "      <td>12</td>\n",
       "      <td>i5</td>\n",
       "      <td>SSD</td>\n",
       "      <td>1TB</td>\n",
       "    </tr>\n",
       "    <tr>\n",
       "      <th>2</th>\n",
       "      <td>GIGABYTE</td>\n",
       "      <td>399000</td>\n",
       "      <td>16GB</td>\n",
       "      <td>13</td>\n",
       "      <td>i7</td>\n",
       "      <td>SSD</td>\n",
       "      <td>512GB</td>\n",
       "    </tr>\n",
       "    <tr>\n",
       "      <th>3</th>\n",
       "      <td>GIGABYTE</td>\n",
       "      <td>345000</td>\n",
       "      <td>32GB</td>\n",
       "      <td>14</td>\n",
       "      <td>i7</td>\n",
       "      <td>SSD</td>\n",
       "      <td>1TB</td>\n",
       "    </tr>\n",
       "    <tr>\n",
       "      <th>4</th>\n",
       "      <td>ASUS</td>\n",
       "      <td>160000</td>\n",
       "      <td>8GB</td>\n",
       "      <td>12</td>\n",
       "      <td>i5</td>\n",
       "      <td>SSD</td>\n",
       "      <td>1TB</td>\n",
       "    </tr>\n",
       "  </tbody>\n",
       "</table>\n",
       "</div>"
      ],
      "text/plain": [
       "      Model   Price   RAM  Generation Processor Type Hard Drive Type  \\\n",
       "0      ASUS  220000  16GB          13             i7             SSD   \n",
       "1    Lenovo  750000  16GB          12             i5             SSD   \n",
       "2  GIGABYTE  399000  16GB          13             i7             SSD   \n",
       "3  GIGABYTE  345000  32GB          14             i7             SSD   \n",
       "4      ASUS  160000   8GB          12             i5             SSD   \n",
       "\n",
       "  Hard Drive Size  \n",
       "0           512GB  \n",
       "1             1TB  \n",
       "2           512GB  \n",
       "3             1TB  \n",
       "4             1TB  "
      ]
     },
     "execution_count": 11,
     "metadata": {},
     "output_type": "execute_result"
    }
   ],
   "source": [
    "data_3.head()"
   ]
  },
  {
   "cell_type": "code",
   "execution_count": 12,
   "id": "1b75dde3",
   "metadata": {},
   "outputs": [
    {
     "data": {
      "text/html": [
       "<div>\n",
       "<style scoped>\n",
       "    .dataframe tbody tr th:only-of-type {\n",
       "        vertical-align: middle;\n",
       "    }\n",
       "\n",
       "    .dataframe tbody tr th {\n",
       "        vertical-align: top;\n",
       "    }\n",
       "\n",
       "    .dataframe thead th {\n",
       "        text-align: right;\n",
       "    }\n",
       "</style>\n",
       "<table border=\"1\" class=\"dataframe\">\n",
       "  <thead>\n",
       "    <tr style=\"text-align: right;\">\n",
       "      <th></th>\n",
       "      <th>Model</th>\n",
       "      <th>Price</th>\n",
       "      <th>RAM</th>\n",
       "      <th>Generation</th>\n",
       "      <th>Processor Type</th>\n",
       "      <th>Hard Drive Type</th>\n",
       "      <th>Hard Drive Size</th>\n",
       "    </tr>\n",
       "  </thead>\n",
       "  <tbody>\n",
       "    <tr>\n",
       "      <th>0</th>\n",
       "      <td>MSI Katana GF66 12UC i7-12700H|8GB|512GB|RTX3050</td>\n",
       "      <td>Rs. 385,000.00</td>\n",
       "      <td>8GB</td>\n",
       "      <td>12</td>\n",
       "      <td>i7</td>\n",
       "      <td>SSD</td>\n",
       "      <td>512GB</td>\n",
       "    </tr>\n",
       "    <tr>\n",
       "      <th>1</th>\n",
       "      <td>HP Laptop 15-dy5131wm i3-1215U|8GB|256GB|Win 11</td>\n",
       "      <td>Rs. 138,500.00</td>\n",
       "      <td>8GB</td>\n",
       "      <td>12</td>\n",
       "      <td>i3</td>\n",
       "      <td>SSD</td>\n",
       "      <td>256GB</td>\n",
       "    </tr>\n",
       "    <tr>\n",
       "      <th>2</th>\n",
       "      <td>MSI Modern 15 - B13M i3-1315U|8GB|512GB|Win 11</td>\n",
       "      <td>Rs. 179,100.00</td>\n",
       "      <td>8GB</td>\n",
       "      <td>13</td>\n",
       "      <td>i3</td>\n",
       "      <td>SSD</td>\n",
       "      <td>512GB</td>\n",
       "    </tr>\n",
       "    <tr>\n",
       "      <th>3</th>\n",
       "      <td>MSI Cyborg 15 A13VE I7-13620H|16GB|512GB|RTX 4050</td>\n",
       "      <td>Rs. 375,000.00</td>\n",
       "      <td>16GB</td>\n",
       "      <td>13</td>\n",
       "      <td>i7</td>\n",
       "      <td>SSD</td>\n",
       "      <td>512GB</td>\n",
       "    </tr>\n",
       "    <tr>\n",
       "      <th>4</th>\n",
       "      <td>MSI Cyborg 15 A12UDX i7-12650H|16GB|512GB|RTX3050</td>\n",
       "      <td>Rs. 325,000.00</td>\n",
       "      <td>16GB</td>\n",
       "      <td>12</td>\n",
       "      <td>i7</td>\n",
       "      <td>SSD</td>\n",
       "      <td>512GB</td>\n",
       "    </tr>\n",
       "  </tbody>\n",
       "</table>\n",
       "</div>"
      ],
      "text/plain": [
       "                                               Model           Price   RAM  \\\n",
       "0   MSI Katana GF66 12UC i7-12700H|8GB|512GB|RTX3050  Rs. 385,000.00   8GB   \n",
       "1    HP Laptop 15-dy5131wm i3-1215U|8GB|256GB|Win 11  Rs. 138,500.00   8GB   \n",
       "2     MSI Modern 15 - B13M i3-1315U|8GB|512GB|Win 11  Rs. 179,100.00   8GB   \n",
       "3  MSI Cyborg 15 A13VE I7-13620H|16GB|512GB|RTX 4050  Rs. 375,000.00  16GB   \n",
       "4  MSI Cyborg 15 A12UDX i7-12650H|16GB|512GB|RTX3050  Rs. 325,000.00  16GB   \n",
       "\n",
       "   Generation Processor Type Hard Drive Type Hard Drive Size  \n",
       "0          12             i7             SSD           512GB  \n",
       "1          12             i3             SSD           256GB  \n",
       "2          13             i3             SSD           512GB  \n",
       "3          13             i7             SSD           512GB  \n",
       "4          12             i7             SSD           512GB  "
      ]
     },
     "execution_count": 12,
     "metadata": {},
     "output_type": "execute_result"
    }
   ],
   "source": [
    "data_4.head()"
   ]
  },
  {
   "cell_type": "code",
   "execution_count": 13,
   "id": "f54c8422",
   "metadata": {},
   "outputs": [
    {
     "name": "stderr",
     "output_type": "stream",
     "text": [
      "C:\\Users\\Laptop Outlet\\AppData\\Local\\Temp\\ipykernel_19392\\3358506780.py:1: FutureWarning: The default value of regex will change from True to False in a future version.\n",
      "  data_4['Price'] = data_4['Price'].str.replace('Rs.','') #covert the price column into intiger\n"
     ]
    }
   ],
   "source": [
    "data_4['Price'] = data_4['Price'].str.replace('Rs.','') #covert the price column into intiger\n",
    "data_4['Price'] = data_4['Price'].str.replace(',','')\n",
    "data_4['Price'] = data_4['Price'].str[:-3].astype('int64')"
   ]
  },
  {
   "cell_type": "code",
   "execution_count": 14,
   "id": "aeb2a094",
   "metadata": {},
   "outputs": [
    {
     "data": {
      "text/html": [
       "<div>\n",
       "<style scoped>\n",
       "    .dataframe tbody tr th:only-of-type {\n",
       "        vertical-align: middle;\n",
       "    }\n",
       "\n",
       "    .dataframe tbody tr th {\n",
       "        vertical-align: top;\n",
       "    }\n",
       "\n",
       "    .dataframe thead th {\n",
       "        text-align: right;\n",
       "    }\n",
       "</style>\n",
       "<table border=\"1\" class=\"dataframe\">\n",
       "  <thead>\n",
       "    <tr style=\"text-align: right;\">\n",
       "      <th></th>\n",
       "      <th>Model</th>\n",
       "      <th>Price</th>\n",
       "      <th>RAM</th>\n",
       "      <th>Generation</th>\n",
       "      <th>Processor Type</th>\n",
       "      <th>Hard Drive Type</th>\n",
       "      <th>Hard Drive Size</th>\n",
       "    </tr>\n",
       "  </thead>\n",
       "  <tbody>\n",
       "    <tr>\n",
       "      <th>0</th>\n",
       "      <td>MSI Katana GF66 12UC i7-12700H|8GB|512GB|RTX3050</td>\n",
       "      <td>385000</td>\n",
       "      <td>8GB</td>\n",
       "      <td>12</td>\n",
       "      <td>i7</td>\n",
       "      <td>SSD</td>\n",
       "      <td>512GB</td>\n",
       "    </tr>\n",
       "    <tr>\n",
       "      <th>1</th>\n",
       "      <td>HP Laptop 15-dy5131wm i3-1215U|8GB|256GB|Win 11</td>\n",
       "      <td>138500</td>\n",
       "      <td>8GB</td>\n",
       "      <td>12</td>\n",
       "      <td>i3</td>\n",
       "      <td>SSD</td>\n",
       "      <td>256GB</td>\n",
       "    </tr>\n",
       "    <tr>\n",
       "      <th>2</th>\n",
       "      <td>MSI Modern 15 - B13M i3-1315U|8GB|512GB|Win 11</td>\n",
       "      <td>179100</td>\n",
       "      <td>8GB</td>\n",
       "      <td>13</td>\n",
       "      <td>i3</td>\n",
       "      <td>SSD</td>\n",
       "      <td>512GB</td>\n",
       "    </tr>\n",
       "    <tr>\n",
       "      <th>3</th>\n",
       "      <td>MSI Cyborg 15 A13VE I7-13620H|16GB|512GB|RTX 4050</td>\n",
       "      <td>375000</td>\n",
       "      <td>16GB</td>\n",
       "      <td>13</td>\n",
       "      <td>i7</td>\n",
       "      <td>SSD</td>\n",
       "      <td>512GB</td>\n",
       "    </tr>\n",
       "    <tr>\n",
       "      <th>4</th>\n",
       "      <td>MSI Cyborg 15 A12UDX i7-12650H|16GB|512GB|RTX3050</td>\n",
       "      <td>325000</td>\n",
       "      <td>16GB</td>\n",
       "      <td>12</td>\n",
       "      <td>i7</td>\n",
       "      <td>SSD</td>\n",
       "      <td>512GB</td>\n",
       "    </tr>\n",
       "  </tbody>\n",
       "</table>\n",
       "</div>"
      ],
      "text/plain": [
       "                                               Model   Price   RAM  \\\n",
       "0   MSI Katana GF66 12UC i7-12700H|8GB|512GB|RTX3050  385000   8GB   \n",
       "1    HP Laptop 15-dy5131wm i3-1215U|8GB|256GB|Win 11  138500   8GB   \n",
       "2     MSI Modern 15 - B13M i3-1315U|8GB|512GB|Win 11  179100   8GB   \n",
       "3  MSI Cyborg 15 A13VE I7-13620H|16GB|512GB|RTX 4050  375000  16GB   \n",
       "4  MSI Cyborg 15 A12UDX i7-12650H|16GB|512GB|RTX3050  325000  16GB   \n",
       "\n",
       "   Generation Processor Type Hard Drive Type Hard Drive Size  \n",
       "0          12             i7             SSD           512GB  \n",
       "1          12             i3             SSD           256GB  \n",
       "2          13             i3             SSD           512GB  \n",
       "3          13             i7             SSD           512GB  \n",
       "4          12             i7             SSD           512GB  "
      ]
     },
     "execution_count": 14,
     "metadata": {},
     "output_type": "execute_result"
    }
   ],
   "source": [
    "data_4.head()"
   ]
  },
  {
   "cell_type": "code",
   "execution_count": 15,
   "id": "912f6a78",
   "metadata": {},
   "outputs": [
    {
     "data": {
      "text/html": [
       "<div>\n",
       "<style scoped>\n",
       "    .dataframe tbody tr th:only-of-type {\n",
       "        vertical-align: middle;\n",
       "    }\n",
       "\n",
       "    .dataframe tbody tr th {\n",
       "        vertical-align: top;\n",
       "    }\n",
       "\n",
       "    .dataframe thead th {\n",
       "        text-align: right;\n",
       "    }\n",
       "</style>\n",
       "<table border=\"1\" class=\"dataframe\">\n",
       "  <thead>\n",
       "    <tr style=\"text-align: right;\">\n",
       "      <th></th>\n",
       "      <th>Model</th>\n",
       "      <th>Price</th>\n",
       "      <th>RAM</th>\n",
       "      <th>Generation</th>\n",
       "      <th>Processor Type</th>\n",
       "      <th>Hard Drive Type</th>\n",
       "      <th>Hard Drive Size</th>\n",
       "    </tr>\n",
       "  </thead>\n",
       "  <tbody>\n",
       "    <tr>\n",
       "      <th>0</th>\n",
       "      <td>Asus Vivobook 15 X1504VA – i5</td>\n",
       "      <td>රු235,000.00</td>\n",
       "      <td>16GB</td>\n",
       "      <td>13</td>\n",
       "      <td>i5</td>\n",
       "      <td>SSD</td>\n",
       "      <td>512GB</td>\n",
       "    </tr>\n",
       "    <tr>\n",
       "      <th>1</th>\n",
       "      <td>Asus ExpertBook B1 B1402CV – i7</td>\n",
       "      <td>රු325,000.00</td>\n",
       "      <td>16GB</td>\n",
       "      <td>13</td>\n",
       "      <td>i7</td>\n",
       "      <td>SSD</td>\n",
       "      <td>1TB</td>\n",
       "    </tr>\n",
       "    <tr>\n",
       "      <th>2</th>\n",
       "      <td>Asus ExpertBook B1 B1502CVA – i5</td>\n",
       "      <td>රු245,000.00</td>\n",
       "      <td>8GB</td>\n",
       "      <td>13</td>\n",
       "      <td>i5</td>\n",
       "      <td>SSD</td>\n",
       "      <td>512GB</td>\n",
       "    </tr>\n",
       "    <tr>\n",
       "      <th>3</th>\n",
       "      <td>MSI Vector 16 HX A14VGG Gaming – i9</td>\n",
       "      <td>රු730,000.00</td>\n",
       "      <td>16GB</td>\n",
       "      <td>14</td>\n",
       "      <td>i9</td>\n",
       "      <td>SSD</td>\n",
       "      <td>1TB</td>\n",
       "    </tr>\n",
       "    <tr>\n",
       "      <th>4</th>\n",
       "      <td>MSI Cyborg 15 A12VE Gaming – i5</td>\n",
       "      <td>රු335,000.00</td>\n",
       "      <td>16GB</td>\n",
       "      <td>12</td>\n",
       "      <td>i5</td>\n",
       "      <td>SSD</td>\n",
       "      <td>512GB</td>\n",
       "    </tr>\n",
       "  </tbody>\n",
       "</table>\n",
       "</div>"
      ],
      "text/plain": [
       "                                 Model         Price   RAM  Generation  \\\n",
       "0        Asus Vivobook 15 X1504VA – i5  රු235,000.00  16GB          13   \n",
       "1      Asus ExpertBook B1 B1402CV – i7  රු325,000.00  16GB          13   \n",
       "2     Asus ExpertBook B1 B1502CVA – i5  රු245,000.00   8GB          13   \n",
       "3  MSI Vector 16 HX A14VGG Gaming – i9  රු730,000.00  16GB          14   \n",
       "4      MSI Cyborg 15 A12VE Gaming – i5  රු335,000.00  16GB          12   \n",
       "\n",
       "  Processor Type Hard Drive Type Hard Drive Size  \n",
       "0             i5             SSD           512GB  \n",
       "1             i7             SSD             1TB  \n",
       "2             i5             SSD           512GB  \n",
       "3             i9             SSD             1TB  \n",
       "4             i5             SSD           512GB  "
      ]
     },
     "execution_count": 15,
     "metadata": {},
     "output_type": "execute_result"
    }
   ],
   "source": [
    "data_5.head()"
   ]
  },
  {
   "cell_type": "code",
   "execution_count": 16,
   "id": "51c236dd",
   "metadata": {},
   "outputs": [],
   "source": [
    "data_5['Price'] = data_5['Price'].str.replace('රු','') #covert the price into intiger\n",
    "data_5['Price'] = data_5['Price'].str.replace(',','')\n",
    "data_5['Price'] = data_5['Price'].str[:-3].astype('int64')"
   ]
  },
  {
   "cell_type": "code",
   "execution_count": 17,
   "id": "87d358bc",
   "metadata": {},
   "outputs": [
    {
     "data": {
      "text/html": [
       "<div>\n",
       "<style scoped>\n",
       "    .dataframe tbody tr th:only-of-type {\n",
       "        vertical-align: middle;\n",
       "    }\n",
       "\n",
       "    .dataframe tbody tr th {\n",
       "        vertical-align: top;\n",
       "    }\n",
       "\n",
       "    .dataframe thead th {\n",
       "        text-align: right;\n",
       "    }\n",
       "</style>\n",
       "<table border=\"1\" class=\"dataframe\">\n",
       "  <thead>\n",
       "    <tr style=\"text-align: right;\">\n",
       "      <th></th>\n",
       "      <th>Model</th>\n",
       "      <th>Price</th>\n",
       "      <th>RAM</th>\n",
       "      <th>Generation</th>\n",
       "      <th>Processor Type</th>\n",
       "      <th>Hard Drive Type</th>\n",
       "      <th>Hard Drive Size</th>\n",
       "    </tr>\n",
       "  </thead>\n",
       "  <tbody>\n",
       "    <tr>\n",
       "      <th>0</th>\n",
       "      <td>Asus Vivobook 15 X1504VA – i5</td>\n",
       "      <td>235000</td>\n",
       "      <td>16GB</td>\n",
       "      <td>13</td>\n",
       "      <td>i5</td>\n",
       "      <td>SSD</td>\n",
       "      <td>512GB</td>\n",
       "    </tr>\n",
       "    <tr>\n",
       "      <th>1</th>\n",
       "      <td>Asus ExpertBook B1 B1402CV – i7</td>\n",
       "      <td>325000</td>\n",
       "      <td>16GB</td>\n",
       "      <td>13</td>\n",
       "      <td>i7</td>\n",
       "      <td>SSD</td>\n",
       "      <td>1TB</td>\n",
       "    </tr>\n",
       "    <tr>\n",
       "      <th>2</th>\n",
       "      <td>Asus ExpertBook B1 B1502CVA – i5</td>\n",
       "      <td>245000</td>\n",
       "      <td>8GB</td>\n",
       "      <td>13</td>\n",
       "      <td>i5</td>\n",
       "      <td>SSD</td>\n",
       "      <td>512GB</td>\n",
       "    </tr>\n",
       "    <tr>\n",
       "      <th>3</th>\n",
       "      <td>MSI Vector 16 HX A14VGG Gaming – i9</td>\n",
       "      <td>730000</td>\n",
       "      <td>16GB</td>\n",
       "      <td>14</td>\n",
       "      <td>i9</td>\n",
       "      <td>SSD</td>\n",
       "      <td>1TB</td>\n",
       "    </tr>\n",
       "    <tr>\n",
       "      <th>4</th>\n",
       "      <td>MSI Cyborg 15 A12VE Gaming – i5</td>\n",
       "      <td>335000</td>\n",
       "      <td>16GB</td>\n",
       "      <td>12</td>\n",
       "      <td>i5</td>\n",
       "      <td>SSD</td>\n",
       "      <td>512GB</td>\n",
       "    </tr>\n",
       "  </tbody>\n",
       "</table>\n",
       "</div>"
      ],
      "text/plain": [
       "                                 Model   Price   RAM  Generation  \\\n",
       "0        Asus Vivobook 15 X1504VA – i5  235000  16GB          13   \n",
       "1      Asus ExpertBook B1 B1402CV – i7  325000  16GB          13   \n",
       "2     Asus ExpertBook B1 B1502CVA – i5  245000   8GB          13   \n",
       "3  MSI Vector 16 HX A14VGG Gaming – i9  730000  16GB          14   \n",
       "4      MSI Cyborg 15 A12VE Gaming – i5  335000  16GB          12   \n",
       "\n",
       "  Processor Type Hard Drive Type Hard Drive Size  \n",
       "0             i5             SSD           512GB  \n",
       "1             i7             SSD             1TB  \n",
       "2             i5             SSD           512GB  \n",
       "3             i9             SSD             1TB  \n",
       "4             i5             SSD           512GB  "
      ]
     },
     "execution_count": 17,
     "metadata": {},
     "output_type": "execute_result"
    }
   ],
   "source": [
    "data_5.head()"
   ]
  },
  {
   "cell_type": "markdown",
   "id": "07b1e498",
   "metadata": {},
   "source": [
    "### Get the whole data sets in one table"
   ]
  },
  {
   "cell_type": "code",
   "execution_count": 18,
   "id": "a7ab1aed",
   "metadata": {},
   "outputs": [],
   "source": [
    "data = pd.concat([data_1,data_2,data_3,data_4,data_5], ignore_index=True)"
   ]
  },
  {
   "cell_type": "code",
   "execution_count": 19,
   "id": "bf3f2995",
   "metadata": {},
   "outputs": [
    {
     "name": "stdout",
     "output_type": "stream",
     "text": [
      "<class 'pandas.core.frame.DataFrame'>\n",
      "RangeIndex: 326 entries, 0 to 325\n",
      "Data columns (total 7 columns):\n",
      " #   Column           Non-Null Count  Dtype \n",
      "---  ------           --------------  ----- \n",
      " 0   Model            326 non-null    object\n",
      " 1   Price            326 non-null    int64 \n",
      " 2   RAM              326 non-null    object\n",
      " 3   Generation       326 non-null    int64 \n",
      " 4   Processor Type   325 non-null    object\n",
      " 5   Hard Drive Type  326 non-null    object\n",
      " 6   Hard Drive Size  326 non-null    object\n",
      "dtypes: int64(2), object(5)\n",
      "memory usage: 18.0+ KB\n"
     ]
    }
   ],
   "source": [
    "data.info()"
   ]
  },
  {
   "cell_type": "code",
   "execution_count": 20,
   "id": "0f5d8da1",
   "metadata": {},
   "outputs": [
    {
     "data": {
      "text/html": [
       "<div>\n",
       "<style scoped>\n",
       "    .dataframe tbody tr th:only-of-type {\n",
       "        vertical-align: middle;\n",
       "    }\n",
       "\n",
       "    .dataframe tbody tr th {\n",
       "        vertical-align: top;\n",
       "    }\n",
       "\n",
       "    .dataframe thead th {\n",
       "        text-align: right;\n",
       "    }\n",
       "</style>\n",
       "<table border=\"1\" class=\"dataframe\">\n",
       "  <thead>\n",
       "    <tr style=\"text-align: right;\">\n",
       "      <th></th>\n",
       "      <th>Model</th>\n",
       "      <th>Price</th>\n",
       "      <th>RAM</th>\n",
       "      <th>Generation</th>\n",
       "      <th>Processor Type</th>\n",
       "      <th>Hard Drive Type</th>\n",
       "      <th>Hard Drive Size</th>\n",
       "    </tr>\n",
       "  </thead>\n",
       "  <tbody>\n",
       "    <tr>\n",
       "      <th>0</th>\n",
       "      <td>LENOVO SLIM 3 15ALC6 RYZEN5 5500U|8GB|512SSD|2...</td>\n",
       "      <td>250400</td>\n",
       "      <td>8GB</td>\n",
       "      <td>5</td>\n",
       "      <td>Ryzen 5</td>\n",
       "      <td>SSD</td>\n",
       "      <td>512GB</td>\n",
       "    </tr>\n",
       "    <tr>\n",
       "      <th>1</th>\n",
       "      <td>ACER A515-56-53LE CORE i5 11GN|4GB|1TB|W10|SIL...</td>\n",
       "      <td>211150</td>\n",
       "      <td>4GB</td>\n",
       "      <td>11</td>\n",
       "      <td>i5</td>\n",
       "      <td>HDD</td>\n",
       "      <td>1 TB</td>\n",
       "    </tr>\n",
       "    <tr>\n",
       "      <th>2</th>\n",
       "      <td>ACER TMP 215|RYZEN 5-5650U|8GB|512GB|WIN 10PRO...</td>\n",
       "      <td>247200</td>\n",
       "      <td>8GB</td>\n",
       "      <td>5</td>\n",
       "      <td>Ryzen 5</td>\n",
       "      <td>HDD</td>\n",
       "      <td>512GB</td>\n",
       "    </tr>\n",
       "    <tr>\n",
       "      <th>3</th>\n",
       "      <td>HP 255 G8 RYZEN 5 5500U|8GB|1TB|W10|bag(2y)dar...</td>\n",
       "      <td>195700</td>\n",
       "      <td>8GB</td>\n",
       "      <td>5</td>\n",
       "      <td>Ryzen 5</td>\n",
       "      <td>HDD</td>\n",
       "      <td>1 TB</td>\n",
       "    </tr>\n",
       "    <tr>\n",
       "      <th>4</th>\n",
       "      <td>LENOVO V15 G2ITL i5|11GN|8GB|1TB|MX350|15.6'' ...</td>\n",
       "      <td>216300</td>\n",
       "      <td>8GB</td>\n",
       "      <td>11</td>\n",
       "      <td>i5</td>\n",
       "      <td>HDD</td>\n",
       "      <td>1 TB</td>\n",
       "    </tr>\n",
       "  </tbody>\n",
       "</table>\n",
       "</div>"
      ],
      "text/plain": [
       "                                               Model   Price   RAM  \\\n",
       "0  LENOVO SLIM 3 15ALC6 RYZEN5 5500U|8GB|512SSD|2...  250400  8GB    \n",
       "1  ACER A515-56-53LE CORE i5 11GN|4GB|1TB|W10|SIL...  211150  4GB    \n",
       "2  ACER TMP 215|RYZEN 5-5650U|8GB|512GB|WIN 10PRO...  247200  8GB    \n",
       "3  HP 255 G8 RYZEN 5 5500U|8GB|1TB|W10|bag(2y)dar...  195700  8GB    \n",
       "4  LENOVO V15 G2ITL i5|11GN|8GB|1TB|MX350|15.6'' ...  216300  8GB    \n",
       "\n",
       "   Generation Processor Type Hard Drive Type Hard Drive Size  \n",
       "0           5        Ryzen 5             SSD           512GB  \n",
       "1          11             i5             HDD            1 TB  \n",
       "2           5        Ryzen 5             HDD           512GB  \n",
       "3           5        Ryzen 5             HDD            1 TB  \n",
       "4          11             i5             HDD            1 TB  "
      ]
     },
     "execution_count": 20,
     "metadata": {},
     "output_type": "execute_result"
    }
   ],
   "source": [
    "data.head()"
   ]
  },
  {
   "cell_type": "markdown",
   "id": "3a99b96b",
   "metadata": {},
   "source": [
    "## Check the Categories of each columns"
   ]
  },
  {
   "cell_type": "code",
   "execution_count": 21,
   "id": "72868574",
   "metadata": {},
   "outputs": [],
   "source": [
    "data['Model'] = data['Model'].str.split().str[0] # Update Model column\n",
    "data['Model'] = data['Model'].str.upper()"
   ]
  },
  {
   "cell_type": "code",
   "execution_count": 22,
   "id": "664deae6",
   "metadata": {},
   "outputs": [
    {
     "data": {
      "text/plain": [
       "ASUS        87\n",
       "LENOVO      74\n",
       "HP          59\n",
       "MSI         39\n",
       "DELL        37\n",
       "ACER        12\n",
       "GIGABYTE     5\n",
       "MACBOOK      5\n",
       "ROG          3\n",
       "HUAWEI       2\n",
       "VICTUS       1\n",
       "ASPIRE       1\n",
       "APPLE        1\n",
       "Name: Model, dtype: int64"
      ]
     },
     "execution_count": 22,
     "metadata": {},
     "output_type": "execute_result"
    }
   ],
   "source": [
    "data['Model'].value_counts() #check the model categories"
   ]
  },
  {
   "cell_type": "code",
   "execution_count": 23,
   "id": "c40a38a1",
   "metadata": {},
   "outputs": [],
   "source": [
    "data['Model'] = data['Model'].str.replace('APPLE','MACBOOK')\n",
    "\n",
    "#reduce the categories \n",
    "\n",
    "def add_model(name):                                                                              \n",
    "    if name == 'GIGABYTE' or name == 'ROG' or name == 'HUAWEI' or name == 'VICTUS' or name =='ASPIRE':\n",
    "        return 'Others'\n",
    "    else:\n",
    "        return name\n",
    "    \n",
    "data['Model'] = data['Model'].apply(add_model)"
   ]
  },
  {
   "cell_type": "code",
   "execution_count": 24,
   "id": "aeedd268",
   "metadata": {},
   "outputs": [
    {
     "data": {
      "text/plain": [
       "ASUS       87\n",
       "LENOVO     74\n",
       "HP         59\n",
       "MSI        39\n",
       "DELL       37\n",
       "ACER       12\n",
       "Others     12\n",
       "MACBOOK     6\n",
       "Name: Model, dtype: int64"
      ]
     },
     "execution_count": 24,
     "metadata": {},
     "output_type": "execute_result"
    }
   ],
   "source": [
    "data['Model'].value_counts()"
   ]
  },
  {
   "cell_type": "code",
   "execution_count": 25,
   "id": "b9f48737",
   "metadata": {},
   "outputs": [],
   "source": [
    "data['Generation'] = data['Generation'].astype(str) # convert ingeter into string"
   ]
  },
  {
   "cell_type": "code",
   "execution_count": 26,
   "id": "7513f4a1",
   "metadata": {},
   "outputs": [
    {
     "name": "stdout",
     "output_type": "stream",
     "text": [
      "<class 'pandas.core.frame.DataFrame'>\n",
      "RangeIndex: 326 entries, 0 to 325\n",
      "Data columns (total 7 columns):\n",
      " #   Column           Non-Null Count  Dtype \n",
      "---  ------           --------------  ----- \n",
      " 0   Model            326 non-null    object\n",
      " 1   Price            326 non-null    int64 \n",
      " 2   RAM              326 non-null    object\n",
      " 3   Generation       326 non-null    object\n",
      " 4   Processor Type   325 non-null    object\n",
      " 5   Hard Drive Type  326 non-null    object\n",
      " 6   Hard Drive Size  326 non-null    object\n",
      "dtypes: int64(1), object(6)\n",
      "memory usage: 18.0+ KB\n"
     ]
    }
   ],
   "source": [
    "data.info()"
   ]
  },
  {
   "cell_type": "code",
   "execution_count": 27,
   "id": "45befb6c",
   "metadata": {},
   "outputs": [
    {
     "data": {
      "text/plain": [
       "8GB     180\n",
       "16GB    116\n",
       "4GB      15\n",
       "8GB       5\n",
       "32GB      5\n",
       "12GB      3\n",
       "4GB       2\n",
       "Name: RAM, dtype: int64"
      ]
     },
     "execution_count": 27,
     "metadata": {},
     "output_type": "execute_result"
    }
   ],
   "source": [
    "data['RAM'].value_counts() #check the Ram categories"
   ]
  },
  {
   "cell_type": "code",
   "execution_count": 28,
   "id": "8747b8a1",
   "metadata": {},
   "outputs": [],
   "source": [
    "data['RAM'] = data['RAM'].str.replace(' ','')"
   ]
  },
  {
   "cell_type": "code",
   "execution_count": 29,
   "id": "3aa21997",
   "metadata": {},
   "outputs": [
    {
     "data": {
      "text/plain": [
       "8GB     185\n",
       "16GB    116\n",
       "4GB      17\n",
       "32GB      5\n",
       "12GB      3\n",
       "Name: RAM, dtype: int64"
      ]
     },
     "execution_count": 29,
     "metadata": {},
     "output_type": "execute_result"
    }
   ],
   "source": [
    "data['RAM'].value_counts()"
   ]
  },
  {
   "cell_type": "code",
   "execution_count": 30,
   "id": "8723b8c7",
   "metadata": {},
   "outputs": [
    {
     "data": {
      "text/plain": [
       "13    96\n",
       "12    95\n",
       "11    41\n",
       "5     35\n",
       "7     18\n",
       "14    16\n",
       "6      8\n",
       "2      6\n",
       "10     4\n",
       "3      3\n",
       "1      2\n",
       "4      1\n",
       "8      1\n",
       "Name: Generation, dtype: int64"
      ]
     },
     "execution_count": 30,
     "metadata": {},
     "output_type": "execute_result"
    }
   ],
   "source": [
    "data['Generation'].value_counts() #check the Generation categories"
   ]
  },
  {
   "cell_type": "code",
   "execution_count": 31,
   "id": "b725764a",
   "metadata": {},
   "outputs": [
    {
     "data": {
      "text/plain": [
       "i5                                                                                                         127\n",
       "i7                                                                                                          73\n",
       "i3                                                                                                          38\n",
       "Ryzen 5                                                                                                     33\n",
       "Ryzen 7                                                                                                     25\n",
       "i9                                                                                                           7\n",
       "Ultra 7                                                                                                      5\n",
       "Ryzen 3                                                                                                      4\n",
       "Apple                                                                                                        4\n",
       "Ryzen 7                                                                                                      2\n",
       "Ryzen 5                                                                                                      2\n",
       "Ultra 5                                                                                                      2\n",
       "Apple\\n\\n8-core CPU with 4 perform­ance cores and 4 efficiency cores\\n7-core GPU\\n16-core Neural Engine      1\n",
       " Athlon Silver                                                                                               1\n",
       "Celeron                                                                                                      1\n",
       "Name: Processor Type, dtype: int64"
      ]
     },
     "execution_count": 31,
     "metadata": {},
     "output_type": "execute_result"
    }
   ],
   "source": [
    "data['Processor Type'].value_counts() #check the Processor Type categories"
   ]
  },
  {
   "cell_type": "code",
   "execution_count": 32,
   "id": "6e8da382",
   "metadata": {},
   "outputs": [],
   "source": [
    "data['Processor Type'] = data['Processor Type'].str.replace(' ','')\n",
    "data['Processor Type'] = data['Processor Type'].str.split().str[0]\n",
    "\n",
    "#reduce the categories \n",
    "\n",
    "def add_type(name):                                                                              \n",
    "    if name == 'Ultra7' or name == 'Ultra5' or name == 'AthlonSilver' or name == 'Celeron' or name =='Ryzen3':\n",
    "        return 'Others'\n",
    "    else:\n",
    "        return name\n",
    "    \n",
    "data['Processor Type'] = data['Processor Type'].apply(add_type)"
   ]
  },
  {
   "cell_type": "code",
   "execution_count": 33,
   "id": "9581e35a",
   "metadata": {},
   "outputs": [
    {
     "data": {
      "text/plain": [
       "i5        127\n",
       "i7         73\n",
       "i3         38\n",
       "Ryzen5     35\n",
       "Ryzen7     27\n",
       "Others     13\n",
       "i9          7\n",
       "Apple       5\n",
       "Name: Processor Type, dtype: int64"
      ]
     },
     "execution_count": 33,
     "metadata": {},
     "output_type": "execute_result"
    }
   ],
   "source": [
    "data['Processor Type'].value_counts()"
   ]
  },
  {
   "cell_type": "code",
   "execution_count": 34,
   "id": "05bd8b9e",
   "metadata": {},
   "outputs": [
    {
     "data": {
      "text/plain": [
       "SSD     309\n",
       "HDD      16\n",
       "HDD       1\n",
       "Name: Hard Drive Type, dtype: int64"
      ]
     },
     "execution_count": 34,
     "metadata": {},
     "output_type": "execute_result"
    }
   ],
   "source": [
    "data['Hard Drive Type'].value_counts() #check the Hard Drive Type categories"
   ]
  },
  {
   "cell_type": "code",
   "execution_count": 35,
   "id": "51aca454",
   "metadata": {},
   "outputs": [],
   "source": [
    "data['Hard Drive Type'] = data['Hard Drive Type'].str.replace(' ','')\n",
    "data['Hard Drive Size'] = data['Hard Drive Size'].str.replace(' ','')"
   ]
  },
  {
   "cell_type": "code",
   "execution_count": 36,
   "id": "5ed9fbc8",
   "metadata": {},
   "outputs": [
    {
     "data": {
      "text/plain": [
       "SSD    309\n",
       "HDD     17\n",
       "Name: Hard Drive Type, dtype: int64"
      ]
     },
     "execution_count": 36,
     "metadata": {},
     "output_type": "execute_result"
    }
   ],
   "source": [
    "data['Hard Drive Type'].value_counts()"
   ]
  },
  {
   "cell_type": "code",
   "execution_count": 37,
   "id": "8f003ba2",
   "metadata": {},
   "outputs": [
    {
     "data": {
      "text/plain": [
       "512GB    256\n",
       "1TB       44\n",
       "256GB     25\n",
       "128GB      1\n",
       "Name: Hard Drive Size, dtype: int64"
      ]
     },
     "execution_count": 37,
     "metadata": {},
     "output_type": "execute_result"
    }
   ],
   "source": [
    "data['Hard Drive Size'].value_counts()"
   ]
  },
  {
   "cell_type": "code",
   "execution_count": 38,
   "id": "1a4726ec",
   "metadata": {},
   "outputs": [
    {
     "data": {
      "text/html": [
       "<div>\n",
       "<style scoped>\n",
       "    .dataframe tbody tr th:only-of-type {\n",
       "        vertical-align: middle;\n",
       "    }\n",
       "\n",
       "    .dataframe tbody tr th {\n",
       "        vertical-align: top;\n",
       "    }\n",
       "\n",
       "    .dataframe thead th {\n",
       "        text-align: right;\n",
       "    }\n",
       "</style>\n",
       "<table border=\"1\" class=\"dataframe\">\n",
       "  <thead>\n",
       "    <tr style=\"text-align: right;\">\n",
       "      <th></th>\n",
       "      <th>Model</th>\n",
       "      <th>Price</th>\n",
       "      <th>RAM</th>\n",
       "      <th>Generation</th>\n",
       "      <th>Processor Type</th>\n",
       "      <th>Hard Drive Type</th>\n",
       "      <th>Hard Drive Size</th>\n",
       "    </tr>\n",
       "  </thead>\n",
       "  <tbody>\n",
       "    <tr>\n",
       "      <th>0</th>\n",
       "      <td>LENOVO</td>\n",
       "      <td>250400</td>\n",
       "      <td>8GB</td>\n",
       "      <td>5</td>\n",
       "      <td>Ryzen5</td>\n",
       "      <td>SSD</td>\n",
       "      <td>512GB</td>\n",
       "    </tr>\n",
       "    <tr>\n",
       "      <th>1</th>\n",
       "      <td>ACER</td>\n",
       "      <td>211150</td>\n",
       "      <td>4GB</td>\n",
       "      <td>11</td>\n",
       "      <td>i5</td>\n",
       "      <td>HDD</td>\n",
       "      <td>1TB</td>\n",
       "    </tr>\n",
       "    <tr>\n",
       "      <th>2</th>\n",
       "      <td>ACER</td>\n",
       "      <td>247200</td>\n",
       "      <td>8GB</td>\n",
       "      <td>5</td>\n",
       "      <td>Ryzen5</td>\n",
       "      <td>HDD</td>\n",
       "      <td>512GB</td>\n",
       "    </tr>\n",
       "    <tr>\n",
       "      <th>3</th>\n",
       "      <td>HP</td>\n",
       "      <td>195700</td>\n",
       "      <td>8GB</td>\n",
       "      <td>5</td>\n",
       "      <td>Ryzen5</td>\n",
       "      <td>HDD</td>\n",
       "      <td>1TB</td>\n",
       "    </tr>\n",
       "    <tr>\n",
       "      <th>4</th>\n",
       "      <td>LENOVO</td>\n",
       "      <td>216300</td>\n",
       "      <td>8GB</td>\n",
       "      <td>11</td>\n",
       "      <td>i5</td>\n",
       "      <td>HDD</td>\n",
       "      <td>1TB</td>\n",
       "    </tr>\n",
       "  </tbody>\n",
       "</table>\n",
       "</div>"
      ],
      "text/plain": [
       "    Model   Price  RAM Generation Processor Type Hard Drive Type  \\\n",
       "0  LENOVO  250400  8GB          5         Ryzen5             SSD   \n",
       "1    ACER  211150  4GB         11             i5             HDD   \n",
       "2    ACER  247200  8GB          5         Ryzen5             HDD   \n",
       "3      HP  195700  8GB          5         Ryzen5             HDD   \n",
       "4  LENOVO  216300  8GB         11             i5             HDD   \n",
       "\n",
       "  Hard Drive Size  \n",
       "0           512GB  \n",
       "1             1TB  \n",
       "2           512GB  \n",
       "3             1TB  \n",
       "4             1TB  "
      ]
     },
     "execution_count": 38,
     "metadata": {},
     "output_type": "execute_result"
    }
   ],
   "source": [
    "data.head()"
   ]
  },
  {
   "cell_type": "code",
   "execution_count": 39,
   "id": "3e5bf573",
   "metadata": {},
   "outputs": [
    {
     "data": {
      "text/html": [
       "<div>\n",
       "<style scoped>\n",
       "    .dataframe tbody tr th:only-of-type {\n",
       "        vertical-align: middle;\n",
       "    }\n",
       "\n",
       "    .dataframe tbody tr th {\n",
       "        vertical-align: top;\n",
       "    }\n",
       "\n",
       "    .dataframe thead th {\n",
       "        text-align: right;\n",
       "    }\n",
       "</style>\n",
       "<table border=\"1\" class=\"dataframe\">\n",
       "  <thead>\n",
       "    <tr style=\"text-align: right;\">\n",
       "      <th></th>\n",
       "      <th>Price</th>\n",
       "      <th>Model_ACER</th>\n",
       "      <th>Model_ASUS</th>\n",
       "      <th>Model_DELL</th>\n",
       "      <th>Model_HP</th>\n",
       "      <th>Model_LENOVO</th>\n",
       "      <th>Model_MACBOOK</th>\n",
       "      <th>Model_MSI</th>\n",
       "      <th>Model_Others</th>\n",
       "      <th>RAM_12GB</th>\n",
       "      <th>...</th>\n",
       "      <th>Processor Type_i3</th>\n",
       "      <th>Processor Type_i5</th>\n",
       "      <th>Processor Type_i7</th>\n",
       "      <th>Processor Type_i9</th>\n",
       "      <th>Hard Drive Type_HDD</th>\n",
       "      <th>Hard Drive Type_SSD</th>\n",
       "      <th>Hard Drive Size_128GB</th>\n",
       "      <th>Hard Drive Size_1TB</th>\n",
       "      <th>Hard Drive Size_256GB</th>\n",
       "      <th>Hard Drive Size_512GB</th>\n",
       "    </tr>\n",
       "  </thead>\n",
       "  <tbody>\n",
       "    <tr>\n",
       "      <th>0</th>\n",
       "      <td>250400</td>\n",
       "      <td>0</td>\n",
       "      <td>0</td>\n",
       "      <td>0</td>\n",
       "      <td>0</td>\n",
       "      <td>1</td>\n",
       "      <td>0</td>\n",
       "      <td>0</td>\n",
       "      <td>0</td>\n",
       "      <td>0</td>\n",
       "      <td>...</td>\n",
       "      <td>0</td>\n",
       "      <td>0</td>\n",
       "      <td>0</td>\n",
       "      <td>0</td>\n",
       "      <td>0</td>\n",
       "      <td>1</td>\n",
       "      <td>0</td>\n",
       "      <td>0</td>\n",
       "      <td>0</td>\n",
       "      <td>1</td>\n",
       "    </tr>\n",
       "    <tr>\n",
       "      <th>1</th>\n",
       "      <td>211150</td>\n",
       "      <td>1</td>\n",
       "      <td>0</td>\n",
       "      <td>0</td>\n",
       "      <td>0</td>\n",
       "      <td>0</td>\n",
       "      <td>0</td>\n",
       "      <td>0</td>\n",
       "      <td>0</td>\n",
       "      <td>0</td>\n",
       "      <td>...</td>\n",
       "      <td>0</td>\n",
       "      <td>1</td>\n",
       "      <td>0</td>\n",
       "      <td>0</td>\n",
       "      <td>1</td>\n",
       "      <td>0</td>\n",
       "      <td>0</td>\n",
       "      <td>1</td>\n",
       "      <td>0</td>\n",
       "      <td>0</td>\n",
       "    </tr>\n",
       "    <tr>\n",
       "      <th>2</th>\n",
       "      <td>247200</td>\n",
       "      <td>1</td>\n",
       "      <td>0</td>\n",
       "      <td>0</td>\n",
       "      <td>0</td>\n",
       "      <td>0</td>\n",
       "      <td>0</td>\n",
       "      <td>0</td>\n",
       "      <td>0</td>\n",
       "      <td>0</td>\n",
       "      <td>...</td>\n",
       "      <td>0</td>\n",
       "      <td>0</td>\n",
       "      <td>0</td>\n",
       "      <td>0</td>\n",
       "      <td>1</td>\n",
       "      <td>0</td>\n",
       "      <td>0</td>\n",
       "      <td>0</td>\n",
       "      <td>0</td>\n",
       "      <td>1</td>\n",
       "    </tr>\n",
       "    <tr>\n",
       "      <th>3</th>\n",
       "      <td>195700</td>\n",
       "      <td>0</td>\n",
       "      <td>0</td>\n",
       "      <td>0</td>\n",
       "      <td>1</td>\n",
       "      <td>0</td>\n",
       "      <td>0</td>\n",
       "      <td>0</td>\n",
       "      <td>0</td>\n",
       "      <td>0</td>\n",
       "      <td>...</td>\n",
       "      <td>0</td>\n",
       "      <td>0</td>\n",
       "      <td>0</td>\n",
       "      <td>0</td>\n",
       "      <td>1</td>\n",
       "      <td>0</td>\n",
       "      <td>0</td>\n",
       "      <td>1</td>\n",
       "      <td>0</td>\n",
       "      <td>0</td>\n",
       "    </tr>\n",
       "    <tr>\n",
       "      <th>4</th>\n",
       "      <td>216300</td>\n",
       "      <td>0</td>\n",
       "      <td>0</td>\n",
       "      <td>0</td>\n",
       "      <td>0</td>\n",
       "      <td>1</td>\n",
       "      <td>0</td>\n",
       "      <td>0</td>\n",
       "      <td>0</td>\n",
       "      <td>0</td>\n",
       "      <td>...</td>\n",
       "      <td>0</td>\n",
       "      <td>1</td>\n",
       "      <td>0</td>\n",
       "      <td>0</td>\n",
       "      <td>1</td>\n",
       "      <td>0</td>\n",
       "      <td>0</td>\n",
       "      <td>1</td>\n",
       "      <td>0</td>\n",
       "      <td>0</td>\n",
       "    </tr>\n",
       "  </tbody>\n",
       "</table>\n",
       "<p>5 rows × 41 columns</p>\n",
       "</div>"
      ],
      "text/plain": [
       "    Price  Model_ACER  Model_ASUS  Model_DELL  Model_HP  Model_LENOVO  \\\n",
       "0  250400           0           0           0         0             1   \n",
       "1  211150           1           0           0         0             0   \n",
       "2  247200           1           0           0         0             0   \n",
       "3  195700           0           0           0         1             0   \n",
       "4  216300           0           0           0         0             1   \n",
       "\n",
       "   Model_MACBOOK  Model_MSI  Model_Others  RAM_12GB  ...  Processor Type_i3  \\\n",
       "0              0          0             0         0  ...                  0   \n",
       "1              0          0             0         0  ...                  0   \n",
       "2              0          0             0         0  ...                  0   \n",
       "3              0          0             0         0  ...                  0   \n",
       "4              0          0             0         0  ...                  0   \n",
       "\n",
       "   Processor Type_i5  Processor Type_i7  Processor Type_i9  \\\n",
       "0                  0                  0                  0   \n",
       "1                  1                  0                  0   \n",
       "2                  0                  0                  0   \n",
       "3                  0                  0                  0   \n",
       "4                  1                  0                  0   \n",
       "\n",
       "   Hard Drive Type_HDD  Hard Drive Type_SSD  Hard Drive Size_128GB  \\\n",
       "0                    0                    1                      0   \n",
       "1                    1                    0                      0   \n",
       "2                    1                    0                      0   \n",
       "3                    1                    0                      0   \n",
       "4                    1                    0                      0   \n",
       "\n",
       "   Hard Drive Size_1TB  Hard Drive Size_256GB  Hard Drive Size_512GB  \n",
       "0                    0                      0                      1  \n",
       "1                    1                      0                      0  \n",
       "2                    0                      0                      1  \n",
       "3                    1                      0                      0  \n",
       "4                    1                      0                      0  \n",
       "\n",
       "[5 rows x 41 columns]"
      ]
     },
     "execution_count": 39,
     "metadata": {},
     "output_type": "execute_result"
    }
   ],
   "source": [
    "data = pd.get_dummies(data)  #make columns acording to categories\n",
    "data.head()"
   ]
  },
  {
   "cell_type": "code",
   "execution_count": 40,
   "id": "796b7ad0",
   "metadata": {},
   "outputs": [
    {
     "data": {
      "text/plain": [
       "(326, 41)"
      ]
     },
     "execution_count": 40,
     "metadata": {},
     "output_type": "execute_result"
    }
   ],
   "source": [
    "data.shape"
   ]
  },
  {
   "cell_type": "code",
   "execution_count": 43,
   "id": "73fb7cc7",
   "metadata": {},
   "outputs": [],
   "source": [
    "x = data.drop('Price', axis=1)\n",
    "y = data['Price']"
   ]
  },
  {
   "cell_type": "code",
   "execution_count": 314,
   "id": "b69bb6a3",
   "metadata": {},
   "outputs": [],
   "source": [
    "from sklearn.model_selection import train_test_split # divide the data set into train and test\n",
    "x_train,x_test,y_train,y_test = train_test_split(x,y, test_size = 0.2 , random_state = 39)"
   ]
  },
  {
   "cell_type": "code",
   "execution_count": 315,
   "id": "c28ca14d",
   "metadata": {},
   "outputs": [
    {
     "data": {
      "text/plain": [
       "((260, 40), (66, 40))"
      ]
     },
     "execution_count": 315,
     "metadata": {},
     "output_type": "execute_result"
    }
   ],
   "source": [
    "x_train.shape,x_test.shape"
   ]
  },
  {
   "cell_type": "code",
   "execution_count": 316,
   "id": "46883008",
   "metadata": {},
   "outputs": [],
   "source": [
    "def model_Accuracy(model):\n",
    "    model.fit(x_train,y_train)\n",
    "    accuracy = model.score(x_test,y_test)\n",
    "    print(str(model)+\" ------> \"+str(accuracy))"
   ]
  },
  {
   "cell_type": "code",
   "execution_count": 317,
   "id": "52fe093a",
   "metadata": {},
   "outputs": [
    {
     "name": "stdout",
     "output_type": "stream",
     "text": [
      "LinearRegression() ------> 0.6761623616112509\n",
      "Lasso() ------> 0.6760886682122319\n",
      "DecisionTreeRegressor() ------> 0.6515440181596874\n",
      "RandomForestRegressor() ------> 0.7195962800082094\n"
     ]
    },
    {
     "name": "stderr",
     "output_type": "stream",
     "text": [
      "C:\\Users\\Laptop Outlet\\anaconda3\\lib\\site-packages\\sklearn\\linear_model\\_coordinate_descent.py:647: ConvergenceWarning: Objective did not converge. You might want to increase the number of iterations, check the scale of the features or consider increasing regularisation. Duality gap: 2.948e+11, tolerance: 6.109e+08\n",
      "  model = cd_fast.enet_coordinate_descent(\n"
     ]
    }
   ],
   "source": [
    "from sklearn.linear_model import LinearRegression\n",
    "linear_regression = LinearRegression()\n",
    "model_Accuracy(linear_regression)\n",
    "\n",
    "from sklearn.linear_model import Lasso\n",
    "lasso = Lasso()\n",
    "model_Accuracy(lasso)\n",
    "\n",
    "from sklearn.tree import DecisionTreeRegressor\n",
    "decision_tree = DecisionTreeRegressor()\n",
    "model_Accuracy(decision_tree)\n",
    "\n",
    "from sklearn.ensemble import RandomForestRegressor\n",
    "random_forest = RandomForestRegressor()\n",
    "model_Accuracy(random_forest)\n"
   ]
  },
  {
   "cell_type": "code",
   "execution_count": 329,
   "id": "dc1fc413",
   "metadata": {},
   "outputs": [
    {
     "data": {
      "text/plain": [
       "RandomForestRegressor(criterion='absolute_error', n_estimators=150)"
      ]
     },
     "execution_count": 329,
     "metadata": {},
     "output_type": "execute_result"
    }
   ],
   "source": [
    "from sklearn.model_selection import GridSearchCV #Check the best parameters\n",
    "\n",
    "parameters = {'n_estimators':[50,100,150],\n",
    "             'criterion':['squared_error','absolute_error','poisson']}\n",
    "\n",
    "grid_object = GridSearchCV(estimator = random_forest ,param_grid = parameters)\n",
    "grid_fit = grid_object.fit(x_train,y_train)\n",
    "\n",
    "best_model = grid_fit.best_estimator_\n",
    "best_model"
   ]
  },
  {
   "cell_type": "code",
   "execution_count": 330,
   "id": "4c311c06",
   "metadata": {},
   "outputs": [
    {
     "data": {
      "text/plain": [
       "0.7250209516582264"
      ]
     },
     "execution_count": 330,
     "metadata": {},
     "output_type": "execute_result"
    }
   ],
   "source": [
    "best_model.score(x_test,y_test)"
   ]
  },
  {
   "cell_type": "code",
   "execution_count": 331,
   "id": "401ddc28",
   "metadata": {},
   "outputs": [],
   "source": [
    "import pickle\n",
    "with open('model.pickle','wb') as file:\n",
    "    pickle.dump(best_model,file)"
   ]
  },
  {
   "cell_type": "code",
   "execution_count": 332,
   "id": "34b94c7b",
   "metadata": {},
   "outputs": [
    {
     "data": {
      "text/plain": [
       "Index(['Model_ACER', 'Model_ASUS', 'Model_DELL', 'Model_HP', 'Model_LENOVO',\n",
       "       'Model_MACBOOK', 'Model_MSI', 'Model_Others', 'RAM_12GB', 'RAM_16GB',\n",
       "       'RAM_32GB', 'RAM_4GB', 'RAM_8GB', 'Generation_1', 'Generation_10',\n",
       "       'Generation_11', 'Generation_12', 'Generation_13', 'Generation_14',\n",
       "       'Generation_2', 'Generation_3', 'Generation_4', 'Generation_5',\n",
       "       'Generation_6', 'Generation_7', 'Generation_8', 'Processor Type_Apple',\n",
       "       'Processor Type_Others', 'Processor Type_Ryzen5',\n",
       "       'Processor Type_Ryzen7', 'Processor Type_i3', 'Processor Type_i5',\n",
       "       'Processor Type_i7', 'Processor Type_i9', 'Hard Drive Type_HDD',\n",
       "       'Hard Drive Type_SSD', 'Hard Drive Size_128GB', 'Hard Drive Size_1TB',\n",
       "       'Hard Drive Size_256GB', 'Hard Drive Size_512GB'],\n",
       "      dtype='object')"
      ]
     },
     "execution_count": 332,
     "metadata": {},
     "output_type": "execute_result"
    }
   ],
   "source": [
    "x_train.columns"
   ]
  },
  {
   "cell_type": "code",
   "execution_count": 333,
   "id": "26e09aed",
   "metadata": {},
   "outputs": [
    {
     "name": "stderr",
     "output_type": "stream",
     "text": [
      "C:\\Users\\Laptop Outlet\\anaconda3\\lib\\site-packages\\sklearn\\base.py:450: UserWarning: X does not have valid feature names, but RandomForestRegressor was fitted with feature names\n",
      "  warnings.warn(\n"
     ]
    },
    {
     "data": {
      "text/plain": [
       "array([258969.33333333])"
      ]
     },
     "execution_count": 333,
     "metadata": {},
     "output_type": "execute_result"
    }
   ],
   "source": [
    "best_model.predict([[0,0,0,0,1,0,0,0,0,0,0,0,1,0,0,1,0,0,0,0,0,0,0,0,0,0,0,0,0,0,0,1,0,0,1,0,0,1,0,0]])"
   ]
  },
  {
   "cell_type": "code",
   "execution_count": null,
   "id": "9a54b5f7",
   "metadata": {},
   "outputs": [],
   "source": []
  }
 ],
 "metadata": {
  "kernelspec": {
   "display_name": "Python 3 (ipykernel)",
   "language": "python",
   "name": "python3"
  },
  "language_info": {
   "codemirror_mode": {
    "name": "ipython",
    "version": 3
   },
   "file_extension": ".py",
   "mimetype": "text/x-python",
   "name": "python",
   "nbconvert_exporter": "python",
   "pygments_lexer": "ipython3",
   "version": "3.9.12"
  }
 },
 "nbformat": 4,
 "nbformat_minor": 5
}
